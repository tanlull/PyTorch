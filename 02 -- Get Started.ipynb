{
 "cells": [
  {
   "cell_type": "code",
   "execution_count": 7,
   "metadata": {},
   "outputs": [
    {
     "name": "stdout",
     "output_type": "stream",
     "text": [
      "a + b + 4c =\n",
      "tensor([[5., 1., 1., 1., 1.],\n",
      "        [1., 5., 1., 1., 1.],\n",
      "        [1., 1., 5., 1., 1.]])\n"
     ]
    }
   ],
   "source": [
    "import torch as T\n",
    "a = T.zeros(3, 5) # zero matrix\n",
    "b = T.ones(3, 5) # one matrix\n",
    "c = T.eye(3, 5) # identity matrix\n",
    "\n",
    "d = a + b + 4 * c\n",
    "print('a + b + 4c =\\n{}'.format(d))"
   ]
  },
  {
   "cell_type": "code",
   "execution_count": null,
   "metadata": {},
   "outputs": [],
   "source": []
  }
 ],
 "metadata": {
  "kernelspec": {
   "display_name": "Python 3",
   "language": "python",
   "name": "python3"
  },
  "language_info": {
   "codemirror_mode": {
    "name": "ipython",
    "version": 3
   },
   "file_extension": ".py",
   "mimetype": "text/x-python",
   "name": "python",
   "nbconvert_exporter": "python",
   "pygments_lexer": "ipython3",
   "version": "3.6.5"
  }
 },
 "nbformat": 4,
 "nbformat_minor": 2
}
