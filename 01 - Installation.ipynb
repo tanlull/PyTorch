{
 "cells": [
  {
   "cell_type": "code",
   "execution_count": 1,
   "metadata": {},
   "outputs": [
    {
     "name": "stdout",
     "output_type": "stream",
     "text": [
      "Requirement already satisfied: torch in /Users/tan/miniconda3/lib/python3.6/site-packages (0.4.1)\n",
      "Requirement already satisfied: torchvision in /Users/tan/miniconda3/lib/python3.6/site-packages (0.2.1)\n",
      "Requirement already satisfied: six in /Users/tan/miniconda3/lib/python3.6/site-packages (from torchvision) (1.11.0)\n",
      "Requirement already satisfied: pillow>=4.1.1 in /Users/tan/miniconda3/lib/python3.6/site-packages (from torchvision) (5.2.0)\n",
      "Requirement already satisfied: numpy in /Users/tan/miniconda3/lib/python3.6/site-packages (from torchvision) (1.14.5)\n"
     ]
    }
   ],
   "source": [
    "!pip3 install torch torchvision"
   ]
  },
  {
   "cell_type": "code",
   "execution_count": 2,
   "metadata": {},
   "outputs": [
    {
     "name": "stdout",
     "output_type": "stream",
     "text": [
      "tensor([[0.8950, 0.5295, 0.9561],\n",
      "        [0.3089, 0.6901, 0.1450],\n",
      "        [0.2452, 0.5488, 0.7287],\n",
      "        [0.3058, 0.2792, 0.2238],\n",
      "        [0.1096, 0.0220, 0.5275]])\n"
     ]
    }
   ],
   "source": [
    "from __future__ import print_function\n",
    "import torch\n",
    "x = torch.rand(5, 3)\n",
    "print(x)"
   ]
  },
  {
   "cell_type": "code",
   "execution_count": null,
   "metadata": {},
   "outputs": [],
   "source": []
  }
 ],
 "metadata": {
  "kernelspec": {
   "display_name": "Python 3",
   "language": "python",
   "name": "python3"
  },
  "language_info": {
   "codemirror_mode": {
    "name": "ipython",
    "version": 3
   },
   "file_extension": ".py",
   "mimetype": "text/x-python",
   "name": "python",
   "nbconvert_exporter": "python",
   "pygments_lexer": "ipython3",
   "version": "3.6.5"
  }
 },
 "nbformat": 4,
 "nbformat_minor": 2
}
